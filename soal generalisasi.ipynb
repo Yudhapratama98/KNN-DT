{
  "nbformat": 4,
  "nbformat_minor": 0,
  "metadata": {
    "colab": {
      "provenance": [],
      "toc_visible": true
    },
    "kernelspec": {
      "name": "python3",
      "display_name": "Python 3"
    },
    "language_info": {
      "name": "python"
    }
  },
  "cells": [
    {
      "cell_type": "markdown",
      "source": [
        "## **1. Latihan Generalization in KNN & Decision Tree**\n",
        "\n",
        "## **Gunakan dataset 'titanic'**\n",
        "\n",
        "      - Features: 'pclass', 'sex', 'age', 'fare'\n",
        "      - Target: 'survived'\n",
        "\n",
        "### - Drop missing value pada features yang digunakan jika ada.\n",
        "### - Lakukan data splitting dengan proporsi 80:20 dan random_state = 42\n",
        "\n",
        "### **KNN**\n",
        "### - Lakukan scaling pada data, lihat nilai akurasinya.\n",
        "### - Cari nilai K terbaiknya dengan range 1-150. Interpretasikan hasilnya, kaitkan dengan overfitting dan underfitting.\n",
        "\n",
        "### **Decision Tree**\n",
        "### - Analisa performa model (overfitting, underfitting, sweet spot) dengan menggunakan hyperparameter berikut:\n",
        "      - minimum samples split (min_samples_split) dengan range 2-150\n",
        "      - minimum samples leaf (min_samples_leaf) dengan range 1-150\n",
        "### - Jelaskan juga apa yang dilakukan hyperparameter tersebut beserta interpretasinya."
      ],
      "metadata": {
        "id": "O7Yb1gVS9CMN"
      }
    },
    {
      "cell_type": "markdown",
      "source": [
        "## **2. Latihan Model Complexity in Linear Model**\n",
        "\n",
        "## **Gunakan dataset 'Admission_Predict'**\n",
        "\n",
        "        - Features: 'GRE Score', 'TOEFL Score', 'University Rating', 'SOP', 'LOR', 'CGPA'\n",
        "        - Target: 'Chance of Admit'\n",
        "\n",
        "- Lakukan data splitting dengan proporsi 80:20 dan random_state = 42.\n",
        "\n",
        "- Gunakan model Ridge Regression dan Lasso Regression dengan berbagai nilai alpha (100000, 10000, 1000, 100, 10, 1, 0.1, 0.01, 0.001).\n",
        "  \n",
        "- Berapa nilai alpha terbaik untuk tiap model?\n",
        "  \n",
        "- Bandingkan performa kedua model ditinjau dari nilai MSE-nya, manakah yang lebih baik?"
      ],
      "metadata": {
        "id": "3xxJQUxU9GUS"
      }
    },
    {
      "cell_type": "code",
      "execution_count": null,
      "metadata": {
        "id": "e-FyRQcF8_Ng"
      },
      "outputs": [],
      "source": []
    }
  ]
}